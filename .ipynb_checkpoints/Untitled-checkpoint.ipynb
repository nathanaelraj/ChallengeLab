{
 "cells": [
  {
   "cell_type": "code",
   "execution_count": 17,
   "metadata": {},
   "outputs": [
    {
     "data": {
      "text/plain": [
       "str"
      ]
     },
     "execution_count": 17,
     "metadata": {},
     "output_type": "execute_result"
    }
   ],
   "source": [
    "from watson_developer_cloud import ConversationV1\n",
    "import json\n",
    "import watson_developer_cloud\n",
    "conversation = ConversationV1(\n",
    "  username = 'd043b7ff-c8ae-4898-8d67-0e37e6607db9',\n",
    "  password = 'IKjV70Qogs67',\n",
    "  version = '2017-05-26'\n",
    ")\n",
    "response = conversation.message(\n",
    "    workspace_id='cf333e4f-b8a2-4aed-8996-d9c5a59bf172',\n",
    "    message_input={\n",
    "        'text': ' the gym'\n",
    "    }\n",
    ")\n",
    "#print(json.dumps(response, indent=2))\n",
    "response['output']['text'][0]\n"
   ]
  },
  {
   "cell_type": "code",
   "execution_count": 12,
   "metadata": {
    "collapsed": true
   },
   "outputs": [],
   "source": [
    "import flask\n"
   ]
  },
  {
   "cell_type": "code",
   "execution_count": null,
   "metadata": {
    "collapsed": true
   },
   "outputs": [],
   "source": []
  }
 ],
 "metadata": {
  "kernelspec": {
   "display_name": "Python 3",
   "language": "python",
   "name": "python3"
  },
  "language_info": {
   "codemirror_mode": {
    "name": "ipython",
    "version": 3
   },
   "file_extension": ".py",
   "mimetype": "text/x-python",
   "name": "python",
   "nbconvert_exporter": "python",
   "pygments_lexer": "ipython3",
   "version": "3.6.1"
  }
 },
 "nbformat": 4,
 "nbformat_minor": 2
}
